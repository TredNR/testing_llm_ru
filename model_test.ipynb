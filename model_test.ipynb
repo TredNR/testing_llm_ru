{
 "cells": [
  {
   "cell_type": "code",
   "execution_count": 1,
   "id": "5371c00e-b890-4e42-9f5e-a3b005a1b4f7",
   "metadata": {},
   "outputs": [],
   "source": [
    "# Импортирование необходимых библиотек\n",
    "import pandas as pd\n",
    "from transformers import pipeline\n",
    "import torch\n",
    "import tensorflow\n",
    "import ast"
   ]
  },
  {
   "cell_type": "code",
   "execution_count": 2,
   "id": "95202bb3-e2ce-4459-9241-9a32a7ffb0b6",
   "metadata": {},
   "outputs": [],
   "source": [
    "df_1 = pd.read_csv('07.05.2022.csv')\n",
    "df_2 =  pd.read_csv('17.01.2023.csv')"
   ]
  },
  {
   "cell_type": "code",
   "execution_count": 3,
   "id": "4da38745-d97d-4d17-8681-4c4a9242eea0",
   "metadata": {},
   "outputs": [
    {
     "data": {
      "text/html": [
       "<div>\n",
       "<style scoped>\n",
       "    .dataframe tbody tr th:only-of-type {\n",
       "        vertical-align: middle;\n",
       "    }\n",
       "\n",
       "    .dataframe tbody tr th {\n",
       "        vertical-align: top;\n",
       "    }\n",
       "\n",
       "    .dataframe thead th {\n",
       "        text-align: right;\n",
       "    }\n",
       "</style>\n",
       "<table border=\"1\" class=\"dataframe\">\n",
       "  <thead>\n",
       "    <tr style=\"text-align: right;\">\n",
       "      <th></th>\n",
       "      <th>_id</th>\n",
       "      <th>date_news</th>\n",
       "      <th>time_news</th>\n",
       "      <th>rubrics_title</th>\n",
       "      <th>format_title</th>\n",
       "      <th>theme_title</th>\n",
       "      <th>link</th>\n",
       "      <th>title</th>\n",
       "      <th>subtitle</th>\n",
       "      <th>view_news</th>\n",
       "      <th>number_comments</th>\n",
       "      <th>date_time_news</th>\n",
       "      <th>article</th>\n",
       "      <th>author</th>\n",
       "      <th>author_description</th>\n",
       "      <th>link_author</th>\n",
       "      <th>result_list_tags_article</th>\n",
       "      <th>reaction_article</th>\n",
       "      <th>all_comment</th>\n",
       "    </tr>\n",
       "  </thead>\n",
       "  <tbody>\n",
       "    <tr>\n",
       "      <th>0</th>\n",
       "      <td>2022_05_07_71308880</td>\n",
       "      <td>2022-05-07</td>\n",
       "      <td>20:11:25</td>\n",
       "      <td>Дороги и транспорт</td>\n",
       "      <td>NaN</td>\n",
       "      <td>NaN</td>\n",
       "      <td>https://63.ru/text/transport/2022/05/07/71308880/</td>\n",
       "      <td>Самарские трамваи отправят в Екатеринбург</td>\n",
       "      <td>Подробности рассказал глава ТТУ Михаил Ефремов</td>\n",
       "      <td>4 960</td>\n",
       "      <td>23.0</td>\n",
       "      <td>2022-05-07 20:11:25</td>\n",
       "      <td>В «Трамвайно-троллейбусном управлении» Самары ...</td>\n",
       "      <td>Марина Волгина</td>\n",
       "      <td>NaN</td>\n",
       "      <td>NaN</td>\n",
       "      <td>['Михаил Ефремов', 'Ремонт трамваев']</td>\n",
       "      <td>{'ЛАЙК': '4', 'СМЕХ': '5', 'УДИВЛЕНИЕ': '1', '...</td>\n",
       "      <td>[{'link': 'https://63.ru/text/transport/2022/0...</td>\n",
       "    </tr>\n",
       "  </tbody>\n",
       "</table>\n",
       "</div>"
      ],
      "text/plain": [
       "                   _id   date_news time_news       rubrics_title format_title  \\\n",
       "0  2022_05_07_71308880  2022-05-07  20:11:25  Дороги и транспорт          NaN   \n",
       "\n",
       "  theme_title                                               link  \\\n",
       "0         NaN  https://63.ru/text/transport/2022/05/07/71308880/   \n",
       "\n",
       "                                       title  \\\n",
       "0  Самарские трамваи отправят в Екатеринбург   \n",
       "\n",
       "                                         subtitle view_news  number_comments  \\\n",
       "0  Подробности рассказал глава ТТУ Михаил Ефремов     4 960             23.0   \n",
       "\n",
       "        date_time_news                                            article  \\\n",
       "0  2022-05-07 20:11:25  В «Трамвайно-троллейбусном управлении» Самары ...   \n",
       "\n",
       "           author author_description link_author  \\\n",
       "0  Марина Волгина                NaN         NaN   \n",
       "\n",
       "                result_list_tags_article  \\\n",
       "0  ['Михаил Ефремов', 'Ремонт трамваев']   \n",
       "\n",
       "                                    reaction_article  \\\n",
       "0  {'ЛАЙК': '4', 'СМЕХ': '5', 'УДИВЛЕНИЕ': '1', '...   \n",
       "\n",
       "                                         all_comment  \n",
       "0  [{'link': 'https://63.ru/text/transport/2022/0...  "
      ]
     },
     "execution_count": 3,
     "metadata": {},
     "output_type": "execute_result"
    }
   ],
   "source": [
    "df_1.head(1)"
   ]
  },
  {
   "cell_type": "markdown",
   "id": "c5e42263-fd13-4977-8e63-3311a1065086",
   "metadata": {},
   "source": [
    "### Используем текст статей и комментарии из новостей для произведения тестов работы языковых моделей\n",
    "#### Полные статьи"
   ]
  },
  {
   "cell_type": "code",
   "execution_count": 4,
   "id": "b6fb1b3c-1813-4331-8859-acb826b311f6",
   "metadata": {},
   "outputs": [
    {
     "name": "stdout",
     "output_type": "stream",
     "text": [
      "В «Трамвайно-троллейбусном управлении» Самары придумали, как модернизировать старые трамваи. Предприятие планирует начать реализацию программы капитально-восстановительного ремонта. Об этом в интервью 63.RU рассказал директор ТТУ Михаил Ефремов. — Что она из себя представляет? «Татру» разбирают до железного «скелета», на который «навешивают» новую проводку, стекло, кресла. Это позволяет продлить срок службы трамвая, чтобы он смог проехать еще 300 тысяч километров. И сейчас этот вопрос мы прорабатываем вместе с департаментом транспорта. Уже нашли компанию в Екатеринбурге, которая занимается модернизацией трамваев. Они сотрудничают с местным горэлектротранспортом. Правда, их специалисты работали с другими вагонами от другого производителя. Но мы уверены, что и с «Татрами» справятся. Ожидаем, что к концу осени у нас уже появится первый модернизированный трамвай, — пояснил Михаил Ефремов. Такая модернизация — тоже удовольствие не из дешевых. По предварительным подсчетам, один вагон обойдется в 19 миллионов рублей. Но если всё пойдет по плану, то реализация программы начнется уже в этом году. По сути, это будет новый трамвай, с современной системой безопасности, кондиционирования, мягкими сиденьями. Можно даже поменять внешний вид трамвая. — Предполагается, что модернизация станет совместным проектом с участием Северного и Городского трамвайного депо и коллег из Екатеринбурга. Если всё получится, то будет польза и предприятию, и всему городу. Можно будет по 20 трамваев в год ремонтировать. Это хорошая цифра, колоссальный объем, — резюмировал директор ТТУ. Он уточнил, что если программа будет длиться минимум 5 лет, то получилось бы отремонтировать 100 трамваев.\n"
     ]
    }
   ],
   "source": [
    "text_1 = df_1['article'][0]\n",
    "print(text_1)"
   ]
  },
  {
   "cell_type": "code",
   "execution_count": 5,
   "id": "908f91e5-96ab-4cdf-8550-94dfabd7996e",
   "metadata": {},
   "outputs": [
    {
     "name": "stdout",
     "output_type": "stream",
     "text": [
      "Бездомные псы, на первый взгляд, бывают милыми. Но от них можно ожидать всего, чего угодно В Кошкинский районный суд подали иск о взыскании морального и материального вреда с владелицы собаки. Об этом рассказали в прокуратуре Самарской области. Собака напала на 13-летнего мальчика в феврале 2022 года. Пес укусил подростка за кисть руки. Мальчику сделали цикл уколов от бешенства. Семья мальчика потратила деньги на лекарства, а сам он испытал нравственные страдания. — Прокуратура во время проверки выяснила, что нападение собаки на ребенка случилось по вине собственницы животного — жительницы села Русская Васильевка, — говорится в сообщении облпрокуратуры. Теперь с собственницы пса требуют компенсацию в 100 000 рублей. Нападение собак на людей, к сожалению, очень часто встречающееся явление в Самарской области. Недавно стая собак набросилась на двух школьниц в Новокуйбышевске. Одной из девочек пес прокусил бедро. Еще один случай произошел в Самаре: здесь бездомные собаки напали на мальчика. Самую оперативную информацию о жизни Самары и области мы публикуем в нашем телеграм-канале 63.RU. А в нашей группе во «ВКонтакте» вы можете предложить свои новости, истории, фотографии и видео.\n"
     ]
    }
   ],
   "source": [
    "text_2 = df_1['article'][1]\n",
    "print(text_2)"
   ]
  },
  {
   "cell_type": "code",
   "execution_count": 6,
   "id": "aab0ebbc-e21b-44f6-88f5-3e62ca22c090",
   "metadata": {},
   "outputs": [
    {
     "name": "stdout",
     "output_type": "stream",
     "text": [
      "Помните, как лет 20–30 назад бразильские сериалы заполонили телеканалы? Каждый вечер мы стремились к экранам, чтобы вникать в увлекательные перипетии загадочной латиноамериканской жизни. Мы решили вернуть вам эти беззаботные времена, а заодно проверить, насколько хорошо вы помните всё, что смотрели. Справятся только те, кто смотрел «Клон» — но его одного, конечно же, не хватит!\n"
     ]
    }
   ],
   "source": [
    "text_3 = df_1['article'][10]\n",
    "print(text_3)"
   ]
  },
  {
   "cell_type": "markdown",
   "id": "cc5d7a0a-98d2-4b8b-8a2e-cc6db557466e",
   "metadata": {},
   "source": [
    "#### Комментарии"
   ]
  },
  {
   "cell_type": "code",
   "execution_count": 7,
   "id": "00e366be-6af5-4bbf-aabd-956bfe38d39e",
   "metadata": {},
   "outputs": [
    {
     "name": "stdout",
     "output_type": "stream",
     "text": [
      "Из людей дураков то делают. То есть они старый разбирают, потом все новое на старую раму навешивают, и это дешевле чем сразу закупить новый?\n"
     ]
    }
   ],
   "source": [
    "comment_1 = df_1['all_comment'][0]\n",
    "comment_1 = ast.literal_eval(comment_1)\n",
    "comment_1 = str(comment_1[7].get('comment_text'))\n",
    "print(comment_1)"
   ]
  },
  {
   "cell_type": "code",
   "execution_count": 8,
   "id": "95d77417-acfd-46c9-8e6b-6462cf9cfb72",
   "metadata": {},
   "outputs": [
    {
     "name": "stdout",
     "output_type": "stream",
     "text": [
      "Почему пишут нет комментариев ? Пишите комментарии есть но цензурированы и не пропущены.\n"
     ]
    }
   ],
   "source": [
    "comment_2 = df_2['all_comment'][3]\n",
    "comment_2 = ast.literal_eval(comment_2)\n",
    "comment_2 = str(comment_2[0].get('comment_text'))\n",
    "print(comment_2)"
   ]
  },
  {
   "cell_type": "code",
   "execution_count": 50,
   "id": "b347f26d-f65a-463f-9baa-035d3d204209",
   "metadata": {},
   "outputs": [
    {
     "name": "stdout",
     "output_type": "stream",
     "text": [
      "Красивее моих детей в детстве нет!\n"
     ]
    }
   ],
   "source": [
    "comment_3 = df_2['all_comment'][5]\n",
    "comment_3 = ast.literal_eval(comment_3)\n",
    "comment_3 = str(comment_3[0].get('comment_text'))\n",
    "print(comment_3)"
   ]
  },
  {
   "cell_type": "markdown",
   "id": "2ffd87e5-0c33-4afe-801b-72ba0d8c06ef",
   "metadata": {},
   "source": [
    "##\n",
    "## 1) Сокращение текста"
   ]
  },
  {
   "cell_type": "markdown",
   "id": "74b5f1c4-8dd7-45de-8abd-4d3e5ce88194",
   "metadata": {},
   "source": [
    "## mT5-multilingual-XLSum\n",
    "### model 1: https://huggingface.co/csebuetnlp/mT5_multilingual_XLSum"
   ]
  },
  {
   "cell_type": "code",
   "execution_count": 10,
   "id": "fa744b92-ae7e-4169-a4ac-2e0fadbc4e2d",
   "metadata": {},
   "outputs": [],
   "source": [
    "classifier_1_1 = pipeline('summarization', model='csebuetnlp/mT5_multilingual_XLSum')"
   ]
  },
  {
   "cell_type": "code",
   "execution_count": 11,
   "id": "02aa5847-338c-40e3-b5d2-900a10e6f37c",
   "metadata": {},
   "outputs": [],
   "source": [
    "r_1_1 = classifier_1_1(text_1)"
   ]
  },
  {
   "cell_type": "markdown",
   "id": "86f99a47-7bc9-4796-a27a-5b93ded9dad1",
   "metadata": {},
   "source": [
    "## MBARTRuSumGazeta\n",
    "### model 2: https://huggingface.co/IlyaGusev/mbart_ru_sum_gazeta"
   ]
  },
  {
   "cell_type": "code",
   "execution_count": 12,
   "id": "ea5d28f5-848b-476b-a763-5fd8ac24ec61",
   "metadata": {},
   "outputs": [],
   "source": [
    "classifier_1_2 = pipeline('summarization', model='IlyaGusev/mbart_ru_sum_gazeta')"
   ]
  },
  {
   "cell_type": "code",
   "execution_count": 13,
   "id": "f8bdbb69-96da-40b5-86d1-6188292e3e4f",
   "metadata": {},
   "outputs": [],
   "source": [
    "r_1_2 = classifier_1_2(text_1)"
   ]
  },
  {
   "cell_type": "markdown",
   "id": "521ec0f7-e277-434d-87c5-d761524a0483",
   "metadata": {},
   "source": [
    "## rut5-base-absum\n",
    "### model 3: https://huggingface.co/cointegrated/rut5-base-absum"
   ]
  },
  {
   "cell_type": "code",
   "execution_count": 14,
   "id": "0e695600-95bd-4a7c-8886-b8890eda0dfc",
   "metadata": {},
   "outputs": [],
   "source": [
    "classifier_1_3 = pipeline('summarization', model='cointegrated/rut5-base-absum')"
   ]
  },
  {
   "cell_type": "code",
   "execution_count": 15,
   "id": "b7096e39-09bd-474d-b0dd-6655c6779994",
   "metadata": {},
   "outputs": [],
   "source": [
    "r_1_3 = classifier_1_3(text_1)"
   ]
  },
  {
   "cell_type": "markdown",
   "id": "7dcdfd12-fadd-4262-b8f2-3fe14183cd5c",
   "metadata": {},
   "source": [
    "## Результаты"
   ]
  },
  {
   "cell_type": "code",
   "execution_count": 16,
   "id": "3be831bb-68f6-4bd6-abce-443f63584302",
   "metadata": {},
   "outputs": [
    {
     "name": "stdout",
     "output_type": "stream",
     "text": [
      "Текст 1\n",
      "В «Трамвайно-троллейбусном управлении» Самары придумали, как модернизировать старые трамваи. Предприятие планирует начать реализацию программы капитально-восстановительного ремонта. Об этом в интервью 63.RU рассказал директор ТТУ Михаил Ефремов. — Что она из себя представляет? «Татру» разбирают до железного «скелета», на который «навешивают» новую проводку, стекло, кресла. Это позволяет продлить срок службы трамвая, чтобы он смог проехать еще 300 тысяч километров. И сейчас этот вопрос мы прорабатываем вместе с департаментом транспорта. Уже нашли компанию в Екатеринбурге, которая занимается модернизацией трамваев. Они сотрудничают с местным горэлектротранспортом. Правда, их специалисты работали с другими вагонами от другого производителя. Но мы уверены, что и с «Татрами» справятся. Ожидаем, что к концу осени у нас уже появится первый модернизированный трамвай, — пояснил Михаил Ефремов. Такая модернизация — тоже удовольствие не из дешевых. По предварительным подсчетам, один вагон обойдется в 19 миллионов рублей. Но если всё пойдет по плану, то реализация программы начнется уже в этом году. По сути, это будет новый трамвай, с современной системой безопасности, кондиционирования, мягкими сиденьями. Можно даже поменять внешний вид трамвая. — Предполагается, что модернизация станет совместным проектом с участием Северного и Городского трамвайного депо и коллег из Екатеринбурга. Если всё получится, то будет польза и предприятию, и всему городу. Можно будет по 20 трамваев в год ремонтировать. Это хорошая цифра, колоссальный объем, — резюмировал директор ТТУ. Он уточнил, что если программа будет длиться минимум 5 лет, то получилось бы отремонтировать 100 трамваев. \n",
      "\n",
      "mT5-multilingual-XLSum (Model 1)\n",
      "[{'summary_text': 'В этом году в Самаре уже появится первый модернизированный трамвай. Это может стать первым в стране, где можно будет отремонтировать старые трамваи.'}]\n",
      "\n",
      "MBARTRuSumGazeta (Model 2)\n",
      "[{'summary_text': 'В «Трамвайно-троллейбусном управлении» Самары придумали, как модернизировать старые трамваи. Предприятие планирует начать реализацию программы капитально-восстановительного ремонта.'}]\n",
      "\n",
      "rut5-base-absum (Model 3) \n",
      "[{'summary_text': 'В Самаре уже появится первый модернизированный трамвай'}]\n"
     ]
    }
   ],
   "source": [
    "print(f'Текст 1\\n{text_1} \\n\\nmT5-multilingual-XLSum (Model 1)\\n{r_1_1}\\n\\nMBARTRuSumGazeta (Model 2)\\n{r_1_2}\\n\\nrut5-base-absum (Model 3) \\n{r_1_3}')"
   ]
  },
  {
   "cell_type": "markdown",
   "id": "09053eb9-205e-41c5-bcde-f974d8e9302a",
   "metadata": {},
   "source": [
    "## Вывод:\n",
    "#### Для тестов моделей для сокращения текстов были взяты тексты новостных статей. Наиболее лучшим образом, на наш взгляд, результат показала модель MBARTRuSumGazeta (Model 2), но отчасти этот результат явялется положительным с той точки зрения, что сама модель обучалась на похожом типе данных, а именно на новостных статьях порталов: www.gazeta.ru, www.bbc.com/russia и www.mk.ru. Модель хорошо передает краткий смысл предложенных текстов, правильно оперирует пунктуацией и смысловыми связями в предложении.\n",
    "#### mT5-multilingual-XLSum (Model 1) явялется мультиязычной моделью, то есть способной работать сразу на нескольких языках, из-за чего в ней наблюдаются несостыковки речевых оборотов для русскокого языка. Использую 62 тысячи записей для обучения на русском с www.bbc.com/russia модель не может полностью уловить смысл, тогда как для английского языка таких записей более 300 тысяч. \n",
    "#### rut5-base-absum (Model 3) имеет настройку на абстрактное обобщение, она сильно ужимает смысловую нагрузку в тексте, ориентируясь скорее на локацию и предмет повествования. Являясь дополнительной модификацией к модели для нескольких задач по работе с краткими абзацами: https://huggingface.co/cointegrated/rut5-base-multitask, которая обучена только на русских и английских текстах, ее практическое применение возможно только для совсем краткого повествования."
   ]
  },
  {
   "cell_type": "markdown",
   "id": "c5ab3b3b-db22-42a5-a67c-1daf5474adf6",
   "metadata": {},
   "source": [
    "##\n",
    "## 2.1) Sentiment-analysis (Анализ настроений для полных текстовых статей)"
   ]
  },
  {
   "cell_type": "markdown",
   "id": "2b6dce83-1ebf-45c6-b917-5ba56d4173c7",
   "metadata": {},
   "source": [
    "## rubert-base-cased-sentiment-rurewiews\n",
    "### model 1: https://huggingface.co/blanchefort/rubert-base-cased-sentiment-rurewiews"
   ]
  },
  {
   "cell_type": "code",
   "execution_count": 17,
   "id": "a8373148-0be9-4c2b-a3ec-f3843d2cb015",
   "metadata": {},
   "outputs": [],
   "source": [
    "classifier_2_1 = pipeline('sentiment-analysis', model='blanchefort/rubert-base-cased-sentiment-rurewiews')"
   ]
  },
  {
   "cell_type": "code",
   "execution_count": 18,
   "id": "26065d90-20fb-4ea6-81b9-f079f9b1f612",
   "metadata": {},
   "outputs": [],
   "source": [
    "r_t_2_1_1 = classifier_2_1(text_1)\n",
    "r_t_2_1_2 = classifier_2_1(text_2)\n",
    "r_t_2_1_3 = classifier_2_1(text_3)"
   ]
  },
  {
   "cell_type": "markdown",
   "id": "acfd9f1f-65b3-4ba6-8e26-10ffd996ef1c",
   "metadata": {},
   "source": [
    "## rubert-base-cased-sentiment-new\n",
    "### model 2: https://huggingface.co/Tatyana/rubert-base-cased-sentiment-new"
   ]
  },
  {
   "cell_type": "code",
   "execution_count": 19,
   "id": "c35a592c-a918-45af-a6dc-e825ecf6c63f",
   "metadata": {},
   "outputs": [],
   "source": [
    "classifier_2_2 = pipeline('sentiment-analysis', model='Tatyana/rubert-base-cased-sentiment-new')"
   ]
  },
  {
   "cell_type": "code",
   "execution_count": 20,
   "id": "0ddaed88-7de9-4038-bbc3-b3063b53773a",
   "metadata": {},
   "outputs": [],
   "source": [
    "r_t_2_2_1 = classifier_2_2(text_1)\n",
    "r_t_2_2_2 = classifier_2_2(text_2)\n",
    "r_t_2_2_3 = classifier_2_2(text_3)"
   ]
  },
  {
   "cell_type": "markdown",
   "id": "a13e6ace-5811-4f2c-b1af-61179e8bb1b0",
   "metadata": {},
   "source": [
    "## Результаты"
   ]
  },
  {
   "cell_type": "code",
   "execution_count": 21,
   "id": "2cb7a2bb-5748-49da-a7c5-733f9bf36f61",
   "metadata": {},
   "outputs": [
    {
     "name": "stdout",
     "output_type": "stream",
     "text": [
      "Текст 1\n",
      "В «Трамвайно-троллейбусном управлении» Самары придумали, как модернизировать старые трамваи. Предприятие планирует начать реализацию программы капитально-восстановительного ремонта. Об этом в интервью 63.RU рассказал директор ТТУ Михаил Ефремов. — Что она из себя представляет? «Татру» разбирают до железного «скелета», на который «навешивают» новую проводку, стекло, кресла. Это позволяет продлить срок службы трамвая, чтобы он смог проехать еще 300 тысяч километров. И сейчас этот вопрос мы прорабатываем вместе с департаментом транспорта. Уже нашли компанию в Екатеринбурге, которая занимается модернизацией трамваев. Они сотрудничают с местным горэлектротранспортом. Правда, их специалисты работали с другими вагонами от другого производителя. Но мы уверены, что и с «Татрами» справятся. Ожидаем, что к концу осени у нас уже появится первый модернизированный трамвай, — пояснил Михаил Ефремов. Такая модернизация — тоже удовольствие не из дешевых. По предварительным подсчетам, один вагон обойдется в 19 миллионов рублей. Но если всё пойдет по плану, то реализация программы начнется уже в этом году. По сути, это будет новый трамвай, с современной системой безопасности, кондиционирования, мягкими сиденьями. Можно даже поменять внешний вид трамвая. — Предполагается, что модернизация станет совместным проектом с участием Северного и Городского трамвайного депо и коллег из Екатеринбурга. Если всё получится, то будет польза и предприятию, и всему городу. Можно будет по 20 трамваев в год ремонтировать. Это хорошая цифра, колоссальный объем, — резюмировал директор ТТУ. Он уточнил, что если программа будет длиться минимум 5 лет, то получилось бы отремонтировать 100 трамваев.\n",
      "\n",
      "rubert-base-cased-sentiment-rurewiews (Model 1)\n",
      "[{'label': 'NEUTRAL', 'score': 0.6006066203117371}]\n",
      "\n",
      "rubert-base-cased-sentiment-new (Model 2)\n",
      "[{'label': 'NEGATIVE', 'score': 0.7514470815658569}]\n"
     ]
    }
   ],
   "source": [
    "print(f'Текст 1\\n{text_1}\\n\\nrubert-base-cased-sentiment-rurewiews (Model 1)\\n{r_t_2_1_1}\\n\\nrubert-base-cased-sentiment-new (Model 2)\\n{r_t_2_2_1}')"
   ]
  },
  {
   "cell_type": "code",
   "execution_count": 22,
   "id": "21dc8dce-9541-46ae-a4a9-b7c2bbef91ce",
   "metadata": {},
   "outputs": [
    {
     "name": "stdout",
     "output_type": "stream",
     "text": [
      "Текст 2\n",
      "Бездомные псы, на первый взгляд, бывают милыми. Но от них можно ожидать всего, чего угодно В Кошкинский районный суд подали иск о взыскании морального и материального вреда с владелицы собаки. Об этом рассказали в прокуратуре Самарской области. Собака напала на 13-летнего мальчика в феврале 2022 года. Пес укусил подростка за кисть руки. Мальчику сделали цикл уколов от бешенства. Семья мальчика потратила деньги на лекарства, а сам он испытал нравственные страдания. — Прокуратура во время проверки выяснила, что нападение собаки на ребенка случилось по вине собственницы животного — жительницы села Русская Васильевка, — говорится в сообщении облпрокуратуры. Теперь с собственницы пса требуют компенсацию в 100 000 рублей. Нападение собак на людей, к сожалению, очень часто встречающееся явление в Самарской области. Недавно стая собак набросилась на двух школьниц в Новокуйбышевске. Одной из девочек пес прокусил бедро. Еще один случай произошел в Самаре: здесь бездомные собаки напали на мальчика. Самую оперативную информацию о жизни Самары и области мы публикуем в нашем телеграм-канале 63.RU. А в нашей группе во «ВКонтакте» вы можете предложить свои новости, истории, фотографии и видео.\n",
      "\n",
      "rubert-base-cased-sentiment-rurewiews (Model 1)\n",
      "[{'label': 'NEGATIVE', 'score': 0.6154041886329651}]\n",
      "\n",
      "rubert-base-cased-sentiment-new (Model 2)\n",
      "[{'label': 'NEGATIVE', 'score': 0.7514528632164001}]\n"
     ]
    }
   ],
   "source": [
    "print(f'Текст 2\\n{text_2}\\n\\nrubert-base-cased-sentiment-rurewiews (Model 1)\\n{r_t_2_1_2}\\n\\nrubert-base-cased-sentiment-new (Model 2)\\n{r_t_2_2_2}')"
   ]
  },
  {
   "cell_type": "code",
   "execution_count": 23,
   "id": "5a7f62b7-cd1d-479e-ba7c-69ae75369adb",
   "metadata": {},
   "outputs": [
    {
     "name": "stdout",
     "output_type": "stream",
     "text": [
      "Текст 3\n",
      "Помните, как лет 20–30 назад бразильские сериалы заполонили телеканалы? Каждый вечер мы стремились к экранам, чтобы вникать в увлекательные перипетии загадочной латиноамериканской жизни. Мы решили вернуть вам эти беззаботные времена, а заодно проверить, насколько хорошо вы помните всё, что смотрели. Справятся только те, кто смотрел «Клон» — но его одного, конечно же, не хватит!\n",
      "\n",
      "rubert-base-cased-sentiment-rurewiews (Model 1)\n",
      "[{'label': 'NEGATIVE', 'score': 0.4987519085407257}]\n",
      "\n",
      "rubert-base-cased-sentiment-new (Model 2)\n",
      "[{'label': 'NEUTRAL', 'score': 0.8158881664276123}]\n"
     ]
    }
   ],
   "source": [
    "print(f'Текст 3\\n{text_3}\\n\\nrubert-base-cased-sentiment-rurewiews (Model 1)\\n{r_t_2_1_3}\\n\\nrubert-base-cased-sentiment-new (Model 2)\\n{r_t_2_2_3}')"
   ]
  },
  {
   "cell_type": "markdown",
   "id": "31b39ea0-4b9e-495f-8cbc-da66fc390886",
   "metadata": {},
   "source": [
    "## Первичный вывод:\n",
    "#### Тесты с текстом статьи про \"Самарские трамваи\" вывели интересные результаты. Модель RuBERT for Sentiment Analysis of Product Reviews (Model 1) основанная на DeepPavlov/rubert-base-cased-conversational и обученная на обзорах товаров на русском языке показывает нейтральное настроение текста с уверенность в 60%, с данным результатам мы согласны. В то время как rubert-base-cased-sentiment-new от Tatyana (Model 2), так же обученной на отзывах, показывает негативное настроение с уверенностью в 75%, что на наш взгляд не является правдопободным результатом.\n",
    "#### После проведения дополнительных тестов с полными текстами статьи для данных двух моделей они показывают достаточно спорные результаты для больших текстовых статей, они хорошо определяют заведомо негативный текст, в то время, как текст с заведомо нейтральной повесткой могут отнести как к негативному, так и к позитивному настроению. Выполним дополнительнные тесты с текстами меньших размерностей, основанные на рандомно выбранных комментариях к новостным статьям.\n",
    "#### Дополнительно включим модель cointegrated/rubert-tiny-sentiment-balanced (Model 3) основанную на cointegrated/rubert-tiny. Мы не включили данную модель в первичные тесты, так как она не способна работать с текстами размерностью более чем 512 слов."
   ]
  },
  {
   "cell_type": "markdown",
   "id": "52e74998-0e8a-4264-9cb1-5d9ec04571bc",
   "metadata": {},
   "source": [
    "##\n",
    "## 2.2) Sentiment-analysis (Анализ настроений для комментариев пользователей к статьям)"
   ]
  },
  {
   "cell_type": "markdown",
   "id": "f7663f54-68b4-4f6b-81e2-392dd848907f",
   "metadata": {},
   "source": [
    "## rubert-tiny-sentiment-balanced\n",
    "### model 3: https://huggingface.co/cointegrated/rubert-tiny-sentiment-balanced"
   ]
  },
  {
   "cell_type": "code",
   "execution_count": 24,
   "id": "73d01c34-7fb6-425d-bd80-8250184c0b3f",
   "metadata": {},
   "outputs": [],
   "source": [
    "classifier_2_3 = pipeline('sentiment-analysis', model='cointegrated/rubert-tiny-sentiment-balanced')"
   ]
  },
  {
   "cell_type": "code",
   "execution_count": 25,
   "id": "d5c68673-c7fb-4574-8a30-64e92afed5e3",
   "metadata": {},
   "outputs": [],
   "source": [
    "# Рассчет анализа настроения по 3-м комментариям для Model 1\n",
    "r_c_2_1_1 = classifier_2_1(comment_1)\n",
    "r_c_2_1_2 = classifier_2_1(comment_2)\n",
    "r_c_2_1_3 = classifier_2_1(comment_3)\n",
    "\n",
    "# Рассчет анализа настроениея по 3-м комментариям для Model 2\n",
    "r_c_2_2_1 = classifier_2_2(comment_1)\n",
    "r_c_2_2_2 = classifier_2_2(comment_2)\n",
    "r_c_2_2_3 = classifier_2_2(comment_3)\n",
    "\n",
    "# Рассчет анализа настроениея по 3-м комментариям для Model 3\n",
    "r_c_2_3_1 = classifier_2_3(comment_1)\n",
    "r_c_2_3_2 = classifier_2_3(comment_2)\n",
    "r_c_2_3_3 = classifier_2_3(comment_3)"
   ]
  },
  {
   "cell_type": "markdown",
   "id": "8aa51576-db04-49cc-9050-4d876f8f0c7e",
   "metadata": {},
   "source": [
    "## Результаты"
   ]
  },
  {
   "cell_type": "code",
   "execution_count": 26,
   "id": "9e32c40b-38fb-48a5-af17-0ab841fc5281",
   "metadata": {},
   "outputs": [
    {
     "name": "stdout",
     "output_type": "stream",
     "text": [
      "Комментарий 1\n",
      "Из людей дураков то делают. То есть они старый разбирают, потом все новое на старую раму навешивают, и это дешевле чем сразу закупить новый?\n",
      "\n",
      "rubert-base-cased-sentiment-rurewiews (Model 1)\n",
      "[{'label': 'NEGATIVE', 'score': 0.6737549901008606}]\n",
      "\n",
      "rubert-base-cased-sentiment-new (Model 2)\n",
      "[{'label': 'NEGATIVE', 'score': 0.7512552738189697}]\n",
      "\n",
      "rubert-tiny-sentiment-balanced (Model 3)\n",
      "[{'label': 'negative', 'score': 0.6810793876647949}]\n"
     ]
    }
   ],
   "source": [
    "print(f'Комментарий 1\\n{comment_1}\\n\\nrubert-base-cased-sentiment-rurewiews (Model 1)\\n{r_c_2_1_1}\\n\\nrubert-base-cased-sentiment-new (Model 2)\\n{r_c_2_2_1}\\n\\nrubert-tiny-sentiment-balanced (Model 3)\\n{r_c_2_3_1}')"
   ]
  },
  {
   "cell_type": "code",
   "execution_count": 27,
   "id": "2dd15744-f9e2-4786-a840-b1ca1e4786a5",
   "metadata": {},
   "outputs": [
    {
     "name": "stdout",
     "output_type": "stream",
     "text": [
      "Комментарий 2\n",
      "Почему пишут нет комментариев ? Пишите комментарии есть но цензурированы и не пропущены.\n",
      "\n",
      "rubert-base-cased-sentiment-rurewiews (Model 1)\n",
      "[{'label': 'NEGATIVE', 'score': 0.7368230819702148}]\n",
      "\n",
      "rubert-base-cased-sentiment-new (Model 2)\n",
      "[{'label': 'NEGATIVE', 'score': 0.7516727447509766}]\n",
      "\n",
      "rubert-tiny-sentiment-balanced (Model 3)\n",
      "[{'label': 'neutral', 'score': 0.5953996777534485}]\n"
     ]
    }
   ],
   "source": [
    "print(f'Комментарий 2\\n{comment_2}\\n\\nrubert-base-cased-sentiment-rurewiews (Model 1)\\n{r_c_2_1_2}\\n\\nrubert-base-cased-sentiment-new (Model 2)\\n{r_c_2_2_2}\\n\\nrubert-tiny-sentiment-balanced (Model 3)\\n{r_c_2_3_2}')"
   ]
  },
  {
   "cell_type": "code",
   "execution_count": 28,
   "id": "ee9c53c5-c360-4458-bcca-f701968c5182",
   "metadata": {},
   "outputs": [
    {
     "name": "stdout",
     "output_type": "stream",
     "text": [
      "Комментарий 3\n",
      "Красивее моих детей в детстве нет!\n",
      "\n",
      "rubert-base-cased-sentiment-rurewiews (Model 1)\n",
      "[{'label': 'NEUTRAL', 'score': 0.6984575986862183}]\n",
      "\n",
      "rubert-base-cased-sentiment-new (Model 2)\n",
      "[{'label': 'NEUTRAL', 'score': 0.7919289469718933}]\n",
      "\n",
      "rubert-tiny-sentiment-balanced (Model 3)\n",
      "[{'label': 'positive', 'score': 0.9486937522888184}]\n"
     ]
    }
   ],
   "source": [
    "print(f'Комментарий 3\\n{comment_3}\\n\\nrubert-base-cased-sentiment-rurewiews (Model 1)\\n{r_c_2_1_3}\\n\\nrubert-base-cased-sentiment-new (Model 2)\\n{r_c_2_2_3}\\n\\nrubert-tiny-sentiment-balanced (Model 3)\\n{r_c_2_3_3}')"
   ]
  },
  {
   "cell_type": "markdown",
   "id": "2f1d57f9-b1ee-408e-974b-e7ba38d302fc",
   "metadata": {},
   "source": [
    "## Вторичный вывод:\n",
    "#### Дополнительные тесты с текстами меньшей размерности показали более качественные результаты. Это основывается как на нашем личном отношении, так и из метрики 'score' у моделей, показатили которых стали значительно стабильние в расбросе относительно друг друга. Основываясь на предобученных моделях с дополнительным процессом \"Fine-tuning\" поверх, на предварительно размеченных выборках данных из открытых источников, модели показывают хороший результат. Наиболее качественно, как нам кажется, показала себя https://huggingface.co/cointegrated/rubert-tiny-sentiment-balanced (Model 3), но ее использование на ограниченном наборе текста требует дополнительного повторного применения и суммирования показателей для большого количества информации. Данныей подход, вероятно, лучше скажется и на показателях других моделей.\n"
   ]
  },
  {
   "cell_type": "markdown",
   "id": "7096ff47-5490-4b74-aaac-96106b086a62",
   "metadata": {},
   "source": [
    "##\n",
    "## 3) Классификация текста"
   ]
  },
  {
   "cell_type": "markdown",
   "id": "148335cb-8d63-466f-b619-4a1ea1d9e03b",
   "metadata": {},
   "source": [
    "## rubert-tiny2-cedr-emotion-detection\n",
    "### model 1: https://huggingface.co/cointegrated/rubert-tiny2-cedr-emotion-detection"
   ]
  },
  {
   "cell_type": "code",
   "execution_count": 29,
   "id": "eeaa3b39-13c2-4e01-aea3-b9857431f696",
   "metadata": {},
   "outputs": [],
   "source": [
    "classifier_3_1 = pipeline('text-classification', model='cointegrated/rubert-tiny2-cedr-emotion-detection')"
   ]
  },
  {
   "cell_type": "code",
   "execution_count": 30,
   "id": "09d96efc-379a-4242-b3d5-73091c480a4d",
   "metadata": {},
   "outputs": [],
   "source": [
    "# Расчет эмоциональной окраски 3-х текстов для Model 1\n",
    "r_t_3_1_1 = classifier_3_1(text_1)\n",
    "r_t_3_1_2 = classifier_3_1(text_2)\n",
    "r_t_3_1_3 = classifier_3_1(text_3)\n",
    "\n",
    "# Расчет эиоциональной окраски 3-х комментариев для Model 1\n",
    "r_c_3_1_1 = classifier_3_1(comment_1)\n",
    "r_c_3_1_2 = classifier_3_1(comment_2)\n",
    "r_c_3_1_3 = classifier_3_1(comment_3)"
   ]
  },
  {
   "cell_type": "markdown",
   "id": "2f841115-e216-4550-843e-9d20f2dd0753",
   "metadata": {},
   "source": [
    "## rubert-tiny-toxicity\n",
    "### model 2: https://huggingface.co/cointegrated/rubert-tiny-toxicity"
   ]
  },
  {
   "cell_type": "code",
   "execution_count": 31,
   "id": "7f36dcec-b2de-4763-922c-ba1f0570bb47",
   "metadata": {},
   "outputs": [],
   "source": [
    "classifier_3_2 = pipeline('text-classification', model='cointegrated/rubert-tiny-toxicity')"
   ]
  },
  {
   "cell_type": "code",
   "execution_count": 32,
   "id": "0394c8bb-c63f-4fef-a506-c4c4a661a7ad",
   "metadata": {},
   "outputs": [],
   "source": [
    "# Расчет эмоциональной окраски 3-х текстов для Model 2\n",
    "#r_t_3_2_1 = classifier_3_2(text_1)\n",
    "r_t_3_2_2 = classifier_3_2(text_2)\n",
    "r_t_3_2_3 = classifier_3_2(text_3)\n",
    "\n",
    "# Расчет эиоциональной окраски 3-х комментариев для Model 2\n",
    "r_c_3_2_1 = classifier_3_2(comment_1)\n",
    "r_c_3_2_2 = classifier_3_2(comment_2)\n",
    "r_c_3_2_3 = classifier_3_2(comment_3)"
   ]
  },
  {
   "cell_type": "markdown",
   "id": "8965c762-6ee6-4207-b51e-5cffbf229f78",
   "metadata": {},
   "source": [
    "## rubert-tiny2-russian-emotion-detection\n",
    "### model 3: https://huggingface.co/Aniemore/rubert-tiny2-russian-emotion-detection"
   ]
  },
  {
   "cell_type": "code",
   "execution_count": 33,
   "id": "960e3b34-f672-4037-9635-7d761b2bbcd3",
   "metadata": {},
   "outputs": [],
   "source": [
    "classifier_3_3 = pipeline('text-classification', model='Aniemore/rubert-tiny2-russian-emotion-detection')"
   ]
  },
  {
   "cell_type": "code",
   "execution_count": 34,
   "id": "387c68e8-63f5-4c2c-b2ed-57aca4937750",
   "metadata": {},
   "outputs": [],
   "source": [
    "# Расчет эмоциональной окраски 3-х текстов для Model 3\n",
    "r_t_3_3_1 = classifier_3_3(text_1)\n",
    "r_t_3_3_2 = classifier_3_3(text_2)\n",
    "r_t_3_3_3 = classifier_3_3(text_3)\n",
    "\n",
    "# Расчет эиоциональной окраски 3-х комментариев для Model 3\n",
    "r_c_3_3_1 = classifier_3_3(comment_1)\n",
    "r_c_3_3_2 = classifier_3_3(comment_2)\n",
    "r_c_3_3_3 = classifier_3_3(comment_3)"
   ]
  },
  {
   "cell_type": "code",
   "execution_count": 35,
   "id": "eae09e15-8c87-435f-be30-3950fb49f635",
   "metadata": {},
   "outputs": [
    {
     "name": "stdout",
     "output_type": "stream",
     "text": [
      "Текст 1\n",
      "В «Трамвайно-троллейбусном управлении» Самары придумали, как модернизировать старые трамваи. Предприятие планирует начать реализацию программы капитально-восстановительного ремонта. Об этом в интервью 63.RU рассказал директор ТТУ Михаил Ефремов. — Что она из себя представляет? «Татру» разбирают до железного «скелета», на который «навешивают» новую проводку, стекло, кресла. Это позволяет продлить срок службы трамвая, чтобы он смог проехать еще 300 тысяч километров. И сейчас этот вопрос мы прорабатываем вместе с департаментом транспорта. Уже нашли компанию в Екатеринбурге, которая занимается модернизацией трамваев. Они сотрудничают с местным горэлектротранспортом. Правда, их специалисты работали с другими вагонами от другого производителя. Но мы уверены, что и с «Татрами» справятся. Ожидаем, что к концу осени у нас уже появится первый модернизированный трамвай, — пояснил Михаил Ефремов. Такая модернизация — тоже удовольствие не из дешевых. По предварительным подсчетам, один вагон обойдется в 19 миллионов рублей. Но если всё пойдет по плану, то реализация программы начнется уже в этом году. По сути, это будет новый трамвай, с современной системой безопасности, кондиционирования, мягкими сиденьями. Можно даже поменять внешний вид трамвая. — Предполагается, что модернизация станет совместным проектом с участием Северного и Городского трамвайного депо и коллег из Екатеринбурга. Если всё получится, то будет польза и предприятию, и всему городу. Можно будет по 20 трамваев в год ремонтировать. Это хорошая цифра, колоссальный объем, — резюмировал директор ТТУ. Он уточнил, что если программа будет длиться минимум 5 лет, то получилось бы отремонтировать 100 трамваев.\n",
      "\n",
      "rubert-tiny2-cedr-emotion-detection (Model 1)\n",
      "[{'label': 'no_emotion', 'score': 0.9911235570907593}]\n",
      "\n",
      "rubert-tiny-toxicity (Model 2)\n",
      "Текст более 512 слов, рассчет невозможен \n",
      "\n",
      "rubert-tiny2-russian-emotion-detection (Model 3)\n",
      "[{'label': 'neutral', 'score': 0.9750823378562927}]\n"
     ]
    }
   ],
   "source": [
    "print(f'Текст 1\\n{text_1}\\n\\nrubert-tiny2-cedr-emotion-detection (Model 1)\\n{r_t_3_1_1}\\n\\nrubert-tiny-toxicity (Model 2)\\nТекст более 512 слов, рассчет невозможен \\n\\nrubert-tiny2-russian-emotion-detection (Model 3)\\n{r_t_3_3_1}')"
   ]
  },
  {
   "cell_type": "code",
   "execution_count": 36,
   "id": "8199c993-5598-446a-a17d-a6dfe445267e",
   "metadata": {},
   "outputs": [
    {
     "name": "stdout",
     "output_type": "stream",
     "text": [
      "Текст 2\n",
      "Бездомные псы, на первый взгляд, бывают милыми. Но от них можно ожидать всего, чего угодно В Кошкинский районный суд подали иск о взыскании морального и материального вреда с владелицы собаки. Об этом рассказали в прокуратуре Самарской области. Собака напала на 13-летнего мальчика в феврале 2022 года. Пес укусил подростка за кисть руки. Мальчику сделали цикл уколов от бешенства. Семья мальчика потратила деньги на лекарства, а сам он испытал нравственные страдания. — Прокуратура во время проверки выяснила, что нападение собаки на ребенка случилось по вине собственницы животного — жительницы села Русская Васильевка, — говорится в сообщении облпрокуратуры. Теперь с собственницы пса требуют компенсацию в 100 000 рублей. Нападение собак на людей, к сожалению, очень часто встречающееся явление в Самарской области. Недавно стая собак набросилась на двух школьниц в Новокуйбышевске. Одной из девочек пес прокусил бедро. Еще один случай произошел в Самаре: здесь бездомные собаки напали на мальчика. Самую оперативную информацию о жизни Самары и области мы публикуем в нашем телеграм-канале 63.RU. А в нашей группе во «ВКонтакте» вы можете предложить свои новости, истории, фотографии и видео.\n",
      "\n",
      "rubert-tiny2-cedr-emotion-detection (Model 1)\n",
      "[{'label': 'no_emotion', 'score': 0.9908620119094849}]\n",
      "\n",
      "rubert-tiny-toxicity (Model 2)\n",
      "[{'label': 'non-toxic', 'score': 0.9996116757392883}]\n",
      "\n",
      "rubert-tiny2-russian-emotion-detection (Model 3)\n",
      "[{'label': 'neutral', 'score': 0.7665213942527771}]\n"
     ]
    }
   ],
   "source": [
    "print(f'Текст 2\\n{text_2}\\n\\nrubert-tiny2-cedr-emotion-detection (Model 1)\\n{r_t_3_1_2}\\n\\nrubert-tiny-toxicity (Model 2)\\n{r_t_3_2_2}\\n\\nrubert-tiny2-russian-emotion-detection (Model 3)\\n{r_t_3_3_2}')"
   ]
  },
  {
   "cell_type": "code",
   "execution_count": 37,
   "id": "bc46d1fa-c1f7-478d-9b92-869f013f115f",
   "metadata": {},
   "outputs": [
    {
     "name": "stdout",
     "output_type": "stream",
     "text": [
      "Текст 3\n",
      "Помните, как лет 20–30 назад бразильские сериалы заполонили телеканалы? Каждый вечер мы стремились к экранам, чтобы вникать в увлекательные перипетии загадочной латиноамериканской жизни. Мы решили вернуть вам эти беззаботные времена, а заодно проверить, насколько хорошо вы помните всё, что смотрели. Справятся только те, кто смотрел «Клон» — но его одного, конечно же, не хватит!\n",
      "\n",
      "rubert-tiny2-cedr-emotion-detection (Model 1)\n",
      "[{'label': 'no_emotion', 'score': 0.9892087578773499}]\n",
      "\n",
      "rubert-tiny-toxicity (Model 2)\n",
      "[{'label': 'non-toxic', 'score': 0.9998043179512024}]\n",
      "\n",
      "rubert-tiny2-russian-emotion-detection (Model 3)\n",
      "[{'label': 'enthusiasm', 'score': 0.41833147406578064}]\n"
     ]
    }
   ],
   "source": [
    "print(f'Текст 3\\n{text_3}\\n\\nrubert-tiny2-cedr-emotion-detection (Model 1)\\n{r_t_3_1_3}\\n\\nrubert-tiny-toxicity (Model 2)\\n{r_t_3_2_3}\\n\\nrubert-tiny2-russian-emotion-detection (Model 3)\\n{r_t_3_3_3}')"
   ]
  },
  {
   "cell_type": "code",
   "execution_count": 38,
   "id": "85ea7569-31ad-479e-a73f-d558caa7f7a8",
   "metadata": {},
   "outputs": [
    {
     "name": "stdout",
     "output_type": "stream",
     "text": [
      "Комментарий 1\n",
      "Из людей дураков то делают. То есть они старый разбирают, потом все новое на старую раму навешивают, и это дешевле чем сразу закупить новый?\n",
      "\n",
      "rubert-tiny2-cedr-emotion-detection (Model 1)\n",
      "[{'label': 'no_emotion', 'score': 0.9762465953826904}]\n",
      "\n",
      "rubert-tiny-toxicity (Model 2)\n",
      "[{'label': 'dangerous', 'score': 0.8459877967834473}]\n",
      "\n",
      "rubert-tiny2-russian-emotion-detection (Model 3)\n",
      "[{'label': 'neutral', 'score': 0.9759248495101929}]\n"
     ]
    }
   ],
   "source": [
    "print(f'Комментарий 1\\n{comment_1}\\n\\nrubert-tiny2-cedr-emotion-detection (Model 1)\\n{r_c_3_1_1}\\n\\nrubert-tiny-toxicity (Model 2)\\n{r_c_3_2_1}\\n\\nrubert-tiny2-russian-emotion-detection (Model 3)\\n{r_c_3_3_1}')"
   ]
  },
  {
   "cell_type": "code",
   "execution_count": 39,
   "id": "bfc86f59-cd20-4e9d-8245-0510c88b12c2",
   "metadata": {},
   "outputs": [
    {
     "name": "stdout",
     "output_type": "stream",
     "text": [
      "Комментарий 2\n",
      "Почему пишут нет комментариев ? Пишите комментарии есть но цензурированы и не пропущены.\n",
      "\n",
      "rubert-tiny2-cedr-emotion-detection (Model 1)\n",
      "[{'label': 'no_emotion', 'score': 0.9902618527412415}]\n",
      "\n",
      "rubert-tiny-toxicity (Model 2)\n",
      "[{'label': 'non-toxic', 'score': 0.9998399019241333}]\n",
      "\n",
      "rubert-tiny2-russian-emotion-detection (Model 3)\n",
      "[{'label': 'neutral', 'score': 0.9865455627441406}]\n"
     ]
    }
   ],
   "source": [
    "print(f'Комментарий 2\\n{comment_2}\\n\\nrubert-tiny2-cedr-emotion-detection (Model 1)\\n{r_c_3_1_2}\\n\\nrubert-tiny-toxicity (Model 2)\\n{r_c_3_2_2}\\n\\nrubert-tiny2-russian-emotion-detection (Model 3)\\n{r_c_3_3_2}')"
   ]
  },
  {
   "cell_type": "code",
   "execution_count": 40,
   "id": "194ca393-1635-4ee5-95f0-8fb9bd03d4c5",
   "metadata": {},
   "outputs": [
    {
     "name": "stdout",
     "output_type": "stream",
     "text": [
      "Комментарий 3\n",
      "Красивее моих детей в детстве нет!\n",
      "\n",
      "rubert-tiny2-cedr-emotion-detection (Model 1)\n",
      "[{'label': 'joy', 'score': 0.966459333896637}]\n",
      "\n",
      "rubert-tiny-toxicity (Model 2)\n",
      "[{'label': 'non-toxic', 'score': 0.9998867511749268}]\n",
      "\n",
      "rubert-tiny2-russian-emotion-detection (Model 3)\n",
      "[{'label': 'happiness', 'score': 0.8527791500091553}]\n"
     ]
    }
   ],
   "source": [
    "print(f'Комментарий 3\\n{comment_3}\\n\\nrubert-tiny2-cedr-emotion-detection (Model 1)\\n{r_c_3_1_3}\\n\\nrubert-tiny-toxicity (Model 2)\\n{r_c_3_2_3}\\n\\nrubert-tiny2-russian-emotion-detection (Model 3)\\n{r_c_3_3_3}')"
   ]
  },
  {
   "cell_type": "markdown",
   "id": "82ddabb5-dd8e-403a-a0ed-d51454fb469b",
   "metadata": {},
   "source": [
    "## Вывод:\n",
    "#### В данном тесте мы задействовали 3 языковые модели, по своей общей сути они способны классифицировать текст по эмоциональной окраске, но с выводом несколько отличных друг от друга итоговоей метрики-обозначения. Опишем полученные результаты для каждой модели:\n",
    "#### rubert-tiny2-cedr-emotion-detection (Model 1) - основана на cointegrated/rubert-tiny2. Модель формирует многоуровневую классификацию для рассматриваемого текста с возможностью вывода как самой значимой метрики ,так и вывода всего словоря оценки. Оцениваются присутсвие следующих эмоций в текстом сообщении: радость, удивление, печаль, гнев, страх, отсутствие эмоций. Данные, на которых обучена модель, содержат 9410 комментариев из различных социальных источников на руссом языке. 'score' модели, при оценке текста в наших тестах не падает ниже 96%, и наша личная оценка совпадает с выбором модели.\n",
    "#### rubert-tiny-toxicity (Model 2) - построена на основе модели cointegrated/rubert-tiny первой версии, настроена на классификацию токсичности в текстовых сообщениях на русском языке. Вывод модели определяется по следующей эмоциональной окраске: непристойность, оскорбление, угроза, опасность, нетоксичность. Модель способна работать и определять эмоции только для текстов размерностью менее 512 слов, что явялется частичным ограничением. В произведенных тестах на комментариях модель правильно корректно определяет выходное значение.\n",
    "#### rubert-tiny2-russian-emotion-detection (Model 3) - как и Model 1 основана на rubert-tiny2. Способна предсказать эмоциональную окраску текста по следующим метрикам: гнев, счастье, страх, энтузиазм, отвращение, печаль, нейтралитет. В тестовом 'тексте 3' замечена интересная особенность, нами самими прослеживается небольшая нотка энтузиазма в нем, модель тоже фиксирует это, но с показателями метрики в 41% уверенности в этом.\n",
    "#### Модели хорошо справляются с эмоциональной классификацией, но для улучшения подхода необходимо применять сразу несколько моделей, так как модели, способную вывести сразу все возможные метрики пока не существует."
   ]
  },
  {
   "cell_type": "markdown",
   "id": "c30f9f29-b0db-4979-a522-734fcb0f6c56",
   "metadata": {},
   "source": [
    "##\n",
    "## 4) Вопрос-ответ"
   ]
  },
  {
   "cell_type": "markdown",
   "id": "331a3d4f-0670-4259-9722-7ee968d8d15f",
   "metadata": {},
   "source": [
    "## xlm-roberta-large-qa-multilingual-finedtuned-ru\n",
    "### model 1: https://huggingface.co/AlexKay/xlm-roberta-large-qa-multilingual-finedtuned-ru"
   ]
  },
  {
   "cell_type": "code",
   "execution_count": 41,
   "id": "57fdc1f4-e49e-49a5-830a-7977f82ba9fc",
   "metadata": {},
   "outputs": [],
   "source": [
    "question_1 = 'Сколько сможет проехать трамвай после модернизации?'\n",
    "question_2 = 'Сколько требуют компинсацию?'\n",
    "question_3 = 'Что заполняли российские  телеканалы 20 лет назад?'"
   ]
  },
  {
   "cell_type": "code",
   "execution_count": 42,
   "id": "15e68e58-59be-434a-9314-ca2eca8556b5",
   "metadata": {},
   "outputs": [],
   "source": [
    "classifier_4_1 = pipeline('question-answering', model='AlexKay/xlm-roberta-large-qa-multilingual-finedtuned-ru')"
   ]
  },
  {
   "cell_type": "code",
   "execution_count": 43,
   "id": "91affcaf-eb63-4280-9b3d-dc2a9dba3ab2",
   "metadata": {},
   "outputs": [
    {
     "name": "stderr",
     "output_type": "stream",
     "text": [
      "C:\\Users\\tred1\\anaconda3\\lib\\site-packages\\transformers\\tokenization_utils_base.py:703: VisibleDeprecationWarning: Creating an ndarray from ragged nested sequences (which is a list-or-tuple of lists-or-tuples-or ndarrays with different lengths or shapes) is deprecated. If you meant to do this, you must specify 'dtype=object' when creating the ndarray.\n",
      "  tensor = as_tensor(value)\n",
      "C:\\Users\\tred1\\anaconda3\\lib\\site-packages\\transformers\\pipelines\\question_answering.py:297: VisibleDeprecationWarning: Creating an ndarray from ragged nested sequences (which is a list-or-tuple of lists-or-tuples-or ndarrays with different lengths or shapes) is deprecated. If you meant to do this, you must specify 'dtype=object' when creating the ndarray.\n",
      "  p_mask = np.asarray(\n"
     ]
    }
   ],
   "source": [
    "r_4_1_1 = classifier_4_1(question = question_1, context = text_1)\n",
    "r_4_1_2 = classifier_4_1(question = question_2, context = text_2)\n",
    "r_4_1_3 = classifier_4_1(question = question_3, context = text_3)"
   ]
  },
  {
   "cell_type": "markdown",
   "id": "e8ad8415-dc62-44e6-b168-518b5b7c9cef",
   "metadata": {},
   "source": [
    "## model-QA-5-epoch-RU \n",
    "### model 2: https://huggingface.co/AndrewChar/model-QA-5-epoch-RU"
   ]
  },
  {
   "cell_type": "code",
   "execution_count": 44,
   "id": "3652b2b6-8051-4d43-81f9-42e881ecc877",
   "metadata": {},
   "outputs": [
    {
     "name": "stderr",
     "output_type": "stream",
     "text": [
      "All model checkpoint layers were used when initializing TFDistilBertForQuestionAnswering.\n",
      "\n",
      "All the layers of TFDistilBertForQuestionAnswering were initialized from the model checkpoint at AndrewChar/model-QA-5-epoch-RU.\n",
      "If your task is similar to the task the model of the checkpoint was trained on, you can already use TFDistilBertForQuestionAnswering for predictions without further training.\n"
     ]
    }
   ],
   "source": [
    "classifier_4_2 = pipeline('question-answering', model='AndrewChar/model-QA-5-epoch-RU')"
   ]
  },
  {
   "cell_type": "code",
   "execution_count": 45,
   "id": "a4e50576-12ef-40dc-9abf-9d14d9e702a6",
   "metadata": {},
   "outputs": [],
   "source": [
    "r_4_2_2 = classifier_4_2(question = question_2, context = text_2)\n",
    "r_4_3_3 = classifier_4_2(question = question_3, context = text_3)"
   ]
  },
  {
   "cell_type": "code",
   "execution_count": 46,
   "id": "1f56f222-e46e-4090-99f8-8186de47dc5e",
   "metadata": {},
   "outputs": [
    {
     "name": "stdout",
     "output_type": "stream",
     "text": [
      "Текст 1\n",
      "В «Трамвайно-троллейбусном управлении» Самары придумали, как модернизировать старые трамваи. Предприятие планирует начать реализацию программы капитально-восстановительного ремонта. Об этом в интервью 63.RU рассказал директор ТТУ Михаил Ефремов. — Что она из себя представляет? «Татру» разбирают до железного «скелета», на который «навешивают» новую проводку, стекло, кресла. Это позволяет продлить срок службы трамвая, чтобы он смог проехать еще 300 тысяч километров. И сейчас этот вопрос мы прорабатываем вместе с департаментом транспорта. Уже нашли компанию в Екатеринбурге, которая занимается модернизацией трамваев. Они сотрудничают с местным горэлектротранспортом. Правда, их специалисты работали с другими вагонами от другого производителя. Но мы уверены, что и с «Татрами» справятся. Ожидаем, что к концу осени у нас уже появится первый модернизированный трамвай, — пояснил Михаил Ефремов. Такая модернизация — тоже удовольствие не из дешевых. По предварительным подсчетам, один вагон обойдется в 19 миллионов рублей. Но если всё пойдет по плану, то реализация программы начнется уже в этом году. По сути, это будет новый трамвай, с современной системой безопасности, кондиционирования, мягкими сиденьями. Можно даже поменять внешний вид трамвая. — Предполагается, что модернизация станет совместным проектом с участием Северного и Городского трамвайного депо и коллег из Екатеринбурга. Если всё получится, то будет польза и предприятию, и всему городу. Можно будет по 20 трамваев в год ремонтировать. Это хорошая цифра, колоссальный объем, — резюмировал директор ТТУ. Он уточнил, что если программа будет длиться минимум 5 лет, то получилось бы отремонтировать 100 трамваев.\n",
      "\n",
      "Вопрос: Сколько сможет проехать трамвай после модернизации?\n",
      "\n",
      "xlm-roberta-large-qa-multilingual-finedtuned-ru (Model 1)\n",
      "{'score': 0.86686110496521, 'start': 446, 'end': 468, 'answer': ' 300 тысяч километров.'}\n",
      "\n",
      "model-QA-5-epoch-RU (Model 2)\n",
      "Текст более 512 слов, рассчет невозможен\n"
     ]
    }
   ],
   "source": [
    "print(f'Текст 1\\n{text_1}\\n\\nВопрос: {question_1}\\n\\nxlm-roberta-large-qa-multilingual-finedtuned-ru (Model 1)\\n{r_4_1_1}\\n\\nmodel-QA-5-epoch-RU (Model 2)\\nТекст более 512 слов, рассчет невозможен')"
   ]
  },
  {
   "cell_type": "code",
   "execution_count": 47,
   "id": "d41835f7-44ad-49ec-8bef-a888b91a8c64",
   "metadata": {},
   "outputs": [
    {
     "name": "stdout",
     "output_type": "stream",
     "text": [
      "Текст 2\n",
      "Бездомные псы, на первый взгляд, бывают милыми. Но от них можно ожидать всего, чего угодно В Кошкинский районный суд подали иск о взыскании морального и материального вреда с владелицы собаки. Об этом рассказали в прокуратуре Самарской области. Собака напала на 13-летнего мальчика в феврале 2022 года. Пес укусил подростка за кисть руки. Мальчику сделали цикл уколов от бешенства. Семья мальчика потратила деньги на лекарства, а сам он испытал нравственные страдания. — Прокуратура во время проверки выяснила, что нападение собаки на ребенка случилось по вине собственницы животного — жительницы села Русская Васильевка, — говорится в сообщении облпрокуратуры. Теперь с собственницы пса требуют компенсацию в 100 000 рублей. Нападение собак на людей, к сожалению, очень часто встречающееся явление в Самарской области. Недавно стая собак набросилась на двух школьниц в Новокуйбышевске. Одной из девочек пес прокусил бедро. Еще один случай произошел в Самаре: здесь бездомные собаки напали на мальчика. Самую оперативную информацию о жизни Самары и области мы публикуем в нашем телеграм-канале 63.RU. А в нашей группе во «ВКонтакте» вы можете предложить свои новости, истории, фотографии и видео.\n",
      "\n",
      "Вопрос: Сколько требуют компинсацию?\n",
      "\n",
      "xlm-roberta-large-qa-multilingual-finedtuned-ru (Model 1)\n",
      "{'score': 0.8948320150375366, 'start': 709, 'end': 725, 'answer': ' 100 000 рублей.'}\n",
      "\n",
      "model-QA-5-epoch-RU (Model 2)\n",
      "{'score': 0.5218654870986938, 'start': 708, 'end': 724, 'answer': 'в 100 000 рублей'}\n"
     ]
    }
   ],
   "source": [
    "print(f'Текст 2\\n{text_2}\\n\\nВопрос: {question_2}\\n\\nxlm-roberta-large-qa-multilingual-finedtuned-ru (Model 1)\\n{r_4_1_2}\\n\\nmodel-QA-5-epoch-RU (Model 2)\\n{r_4_2_2}')"
   ]
  },
  {
   "cell_type": "code",
   "execution_count": 48,
   "id": "f661e443-34f9-476c-999c-c690df4a371f",
   "metadata": {},
   "outputs": [
    {
     "name": "stdout",
     "output_type": "stream",
     "text": [
      "Текст 3\n",
      "Помните, как лет 20–30 назад бразильские сериалы заполонили телеканалы? Каждый вечер мы стремились к экранам, чтобы вникать в увлекательные перипетии загадочной латиноамериканской жизни. Мы решили вернуть вам эти беззаботные времена, а заодно проверить, насколько хорошо вы помните всё, что смотрели. Справятся только те, кто смотрел «Клон» — но его одного, конечно же, не хватит!\n",
      "\n",
      "Вопрос: Что заполняли российские  телеканалы 20 лет назад?\n",
      "\n",
      "xlm-roberta-large-qa-multilingual-finedtuned-ru (Model 1)\n",
      "{'score': 0.4362190067768097, 'start': 28, 'end': 48, 'answer': ' бразильские сериалы'}\n",
      "\n",
      "model-QA-5-epoch-RU (Model 2)\n",
      " {'score': 0.09667057543992996, 'start': 29, 'end': 48, 'answer': 'бразильские сериалы'}\n"
     ]
    }
   ],
   "source": [
    "print(f'Текст 3\\n{text_3}\\n\\nВопрос: {question_3}\\n\\nxlm-roberta-large-qa-multilingual-finedtuned-ru (Model 1)\\n{r_4_1_3}\\n\\nmodel-QA-5-epoch-RU (Model 2)\\n {r_4_3_3}')"
   ]
  },
  {
   "cell_type": "markdown",
   "id": "af00745c-a277-4b44-a0bc-366be0922e60",
   "metadata": {},
   "source": [
    "## Вывод:\n",
    "#### xlm-roberta-large-qa-multilingual-finedtuned-ru (Model 1) способна брать в качестве контекса достаточно большой объем данных. Данная модель является предварительно обученной на задачи моделирования скрытого языка на англоязычных и русскоязычных наборах данных. \n",
    "#### model-QA-5-epoch-RU (Model 2), как нам кажется, работает несколько лучше, вероятно ограничение в 512 слов связано с тем, что качество вывода начинает значителньо уступать схожим моделям. Модель является доработанной моделью  AndrewChar/diplom-prod-epoch-4-datast-sber-QA на наборах данных Сбербанк: https://huggingface.co/datasets/sberquad.\n",
    "#### Модели для построения вопросно-ответной структуры кажется нам наиболее перспективными. Они могут послужить хорошим дополнительным инструментом по формированию готовых структурированнных датасетов из неструктурированных данных."
   ]
  },
  {
   "cell_type": "code",
   "execution_count": null,
   "id": "e2eaa9b4-fa4b-4d6d-9444-a436e1700fcf",
   "metadata": {},
   "outputs": [],
   "source": []
  }
 ],
 "metadata": {
  "kernelspec": {
   "display_name": "Python 3 (ipykernel)",
   "language": "python",
   "name": "python3"
  },
  "language_info": {
   "codemirror_mode": {
    "name": "ipython",
    "version": 3
   },
   "file_extension": ".py",
   "mimetype": "text/x-python",
   "name": "python",
   "nbconvert_exporter": "python",
   "pygments_lexer": "ipython3",
   "version": "3.9.7"
  }
 },
 "nbformat": 4,
 "nbformat_minor": 5
}
